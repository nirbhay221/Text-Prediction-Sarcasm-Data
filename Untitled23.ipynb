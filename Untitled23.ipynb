{
  "nbformat": 4,
  "nbformat_minor": 0,
  "metadata": {
    "colab": {
      "name": "Untitled23.ipynb",
      "provenance": [],
      "collapsed_sections": []
    },
    "kernelspec": {
      "name": "python3",
      "display_name": "Python 3"
    }
  },
  "cells": [
    {
      "cell_type": "code",
      "metadata": {
        "id": "KSulo8qvnkbe"
      },
      "source": [
        "import tensorflow as tf\n",
        "import numpy as np \n",
        "from tensorflow.keras.preprocessing.text import Tokenizer\n",
        "from tensorflow.keras.preprocessing.sequence import pad_sequences"
      ],
      "execution_count": null,
      "outputs": []
    },
    {
      "cell_type": "code",
      "metadata": {
        "id": "mssoWzUJoXmb",
        "outputId": "2f8413f1-a12e-45a0-e158-aa90cdd492de",
        "colab": {
          "base_uri": "https://localhost:8080/",
          "height": 210
        }
      },
      "source": [
        "!wget --no-check-certificate \\\n",
        "    https://storage.googleapis.com/laurencemoroney-blog.appspot.com/sarcasm.json \\\n",
        "    -O /tmp/sarcasm.json"
      ],
      "execution_count": null,
      "outputs": [
        {
          "output_type": "stream",
          "text": [
            "--2020-10-21 14:53:22--  https://storage.googleapis.com/laurencemoroney-blog.appspot.com/sarcasm.json\n",
            "Resolving storage.googleapis.com (storage.googleapis.com)... 74.125.142.128, 74.125.20.128, 74.125.195.128, ...\n",
            "Connecting to storage.googleapis.com (storage.googleapis.com)|74.125.142.128|:443... connected.\n",
            "HTTP request sent, awaiting response... 200 OK\n",
            "Length: 5643545 (5.4M) [application/json]\n",
            "Saving to: ‘/tmp/sarcasm.json’\n",
            "\n",
            "/tmp/sarcasm.json   100%[===================>]   5.38M  --.-KB/s    in 0.1s    \n",
            "\n",
            "2020-10-21 14:53:22 (40.2 MB/s) - ‘/tmp/sarcasm.json’ saved [5643545/5643545]\n",
            "\n"
          ],
          "name": "stdout"
        }
      ]
    },
    {
      "cell_type": "code",
      "metadata": {
        "id": "pVa_9M7lorXt"
      },
      "source": [
        "import json"
      ],
      "execution_count": null,
      "outputs": []
    },
    {
      "cell_type": "code",
      "metadata": {
        "id": "ko4HZTZoosH4"
      },
      "source": [
        "with open(\"/tmp/sarcasm.json\",'r') as f:\n",
        "  datastore = json.load(f)"
      ],
      "execution_count": null,
      "outputs": []
    },
    {
      "cell_type": "code",
      "metadata": {
        "id": "BUK8VP42o3Pl"
      },
      "source": [
        "sentences = []\n",
        "labels = []"
      ],
      "execution_count": null,
      "outputs": []
    },
    {
      "cell_type": "code",
      "metadata": {
        "id": "I67yv8SPo641"
      },
      "source": [
        "\n",
        "sentences = []\n",
        "labels = []\n",
        "urls = []\n",
        "for item in datastore:\n",
        "    sentences.append(item['headline'])\n",
        "    labels.append(item['is_sarcastic'])"
      ],
      "execution_count": null,
      "outputs": []
    },
    {
      "cell_type": "code",
      "metadata": {
        "id": "WrRBR5hbpIoJ"
      },
      "source": [
        "vocab_size = 1000\n",
        "embedding_dim = 16\n",
        "max_length = 120\n",
        "trunc_type='post'\n",
        "padding_type='post'\n",
        "oov_tok = \"<OOV>\"\n",
        "training_size = 20000\n",
        "\n"
      ],
      "execution_count": null,
      "outputs": []
    },
    {
      "cell_type": "code",
      "metadata": {
        "id": "uUjwxlTSpP5J"
      },
      "source": [
        "training_sentences= sentences[0:training_size]\n",
        "training_labels = labels[0:training_size]\n",
        "testing_sentences = sentences[training_size:]\n",
        "testing_labels = labels[training_size:]"
      ],
      "execution_count": null,
      "outputs": []
    },
    {
      "cell_type": "code",
      "metadata": {
        "id": "yxysmjzKp3lX"
      },
      "source": [
        "tokenizer = Tokenizer(num_words = vocab_size,oov_token = '<OOV>')\n",
        "tokenizer.fit_on_texts(training_sentences)\n",
        "word_index = tokenizer.word_index\n",
        "seq = tokenizer.texts_to_sequences(training_sentences)\n",
        "pad= pad_sequences(seq,truncating = trunc_type,padding='post',maxlen=max_length)"
      ],
      "execution_count": null,
      "outputs": []
    },
    {
      "cell_type": "code",
      "metadata": {
        "id": "tv5lOM3zxNPL"
      },
      "source": [
        "seq_t = tokenizer.texts_to_sequences(testing_sentences)\n",
        "pad_t =pad_sequences(seq_t,truncating = trunc_type,padding=padding_type,maxlen = max_length)"
      ],
      "execution_count": null,
      "outputs": []
    },
    {
      "cell_type": "code",
      "metadata": {
        "id": "44S0avgsxcRL"
      },
      "source": [
        "\n",
        "training_sentences = sentences[0:training_size]\n",
        "testing_sentences = sentences[training_size:]\n",
        "training_labels = labels[0:training_size]\n",
        "testing_labels = labels[training_size:]\n",
        "\n",
        "tokenizer = Tokenizer(num_words=vocab_size, oov_token=oov_tok)\n",
        "tokenizer.fit_on_texts(training_sentences)\n",
        "\n",
        "word_index = tokenizer.word_index\n",
        "\n",
        "training_sequences = tokenizer.texts_to_sequences(training_sentences)\n",
        "training_padded = pad_sequences(training_sequences, maxlen=max_length, padding=padding_type, truncating=trunc_type)\n",
        "\n",
        "testing_sequences = tokenizer.texts_to_sequences(testing_sentences)\n",
        "testing_padded = pad_sequences(testing_sequences, maxlen=max_length, padding=padding_type, truncating=trunc_type)\n"
      ],
      "execution_count": null,
      "outputs": []
    },
    {
      "cell_type": "code",
      "metadata": {
        "id": "rWxpZVGRxoZr"
      },
      "source": [
        "\n",
        "model = tf.keras.Sequential([\n",
        "    tf.keras.layers.Embedding(vocab_size, embedding_dim, input_length=max_length),\n",
        "    tf.keras.layers.Conv1D(128, 5, activation='relu'),\n",
        "    tf.keras.layers.GlobalMaxPooling1D(),\n",
        "    tf.keras.layers.Dense(24, activation='relu'),\n",
        "    tf.keras.layers.Dense(1, activation='sigmoid')\n",
        "])"
      ],
      "execution_count": null,
      "outputs": []
    },
    {
      "cell_type": "code",
      "metadata": {
        "id": "vTJB0FMEynH5",
        "outputId": "3344d71f-d373-41c7-fbb9-9ac7761ff352",
        "colab": {
          "base_uri": "https://localhost:8080/",
          "height": 334
        }
      },
      "source": [
        "\n",
        "model.compile(loss='binary_crossentropy',optimizer='adam',metrics=['accuracy'])\n",
        "model.summary()\n",
        "\n",
        "num_epochs = 50"
      ],
      "execution_count": null,
      "outputs": [
        {
          "output_type": "stream",
          "text": [
            "Model: \"sequential_3\"\n",
            "_________________________________________________________________\n",
            "Layer (type)                 Output Shape              Param #   \n",
            "=================================================================\n",
            "embedding_3 (Embedding)      (None, 120, 16)           16000     \n",
            "_________________________________________________________________\n",
            "conv1d_3 (Conv1D)            (None, 116, 128)          10368     \n",
            "_________________________________________________________________\n",
            "global_max_pooling1d_3 (Glob (None, 128)               0         \n",
            "_________________________________________________________________\n",
            "dense_6 (Dense)              (None, 24)                3096      \n",
            "_________________________________________________________________\n",
            "dense_7 (Dense)              (None, 1)                 25        \n",
            "=================================================================\n",
            "Total params: 29,489\n",
            "Trainable params: 29,489\n",
            "Non-trainable params: 0\n",
            "_________________________________________________________________\n"
          ],
          "name": "stdout"
        }
      ]
    },
    {
      "cell_type": "code",
      "metadata": {
        "id": "Pi-XVahgz3vP",
        "outputId": "4911dc61-24f0-44a5-daac-dd611d0ea50c",
        "colab": {
          "base_uri": "https://localhost:8080/",
          "height": 1000
        }
      },
      "source": [
        "\n",
        "training_padded = np.array(training_padded)\n",
        "training_labels = np.array(training_labels)\n",
        "testing_padded = np.array(testing_padded)\n",
        "testing_labels = np.array(testing_labels)\n",
        "\n",
        "history = model.fit(training_padded, training_labels, epochs=num_epochs, validation_data=(testing_padded, testing_labels), verbose=1)\n"
      ],
      "execution_count": null,
      "outputs": [
        {
          "output_type": "stream",
          "text": [
            "Epoch 1/50\n",
            "625/625 [==============================] - 8s 13ms/step - loss: 0.4681 - accuracy: 0.7702 - val_loss: 0.4116 - val_accuracy: 0.8152\n",
            "Epoch 2/50\n",
            "625/625 [==============================] - 8s 13ms/step - loss: 0.3627 - accuracy: 0.8368 - val_loss: 0.4032 - val_accuracy: 0.8179\n",
            "Epoch 3/50\n",
            "625/625 [==============================] - 8s 13ms/step - loss: 0.3261 - accuracy: 0.8557 - val_loss: 0.4008 - val_accuracy: 0.8201\n",
            "Epoch 4/50\n",
            "625/625 [==============================] - 8s 13ms/step - loss: 0.2894 - accuracy: 0.8741 - val_loss: 0.4024 - val_accuracy: 0.8217\n",
            "Epoch 5/50\n",
            "625/625 [==============================] - 8s 13ms/step - loss: 0.2570 - accuracy: 0.8887 - val_loss: 0.4346 - val_accuracy: 0.8128\n",
            "Epoch 6/50\n",
            "625/625 [==============================] - 8s 13ms/step - loss: 0.2222 - accuracy: 0.9068 - val_loss: 0.4626 - val_accuracy: 0.8120\n",
            "Epoch 7/50\n",
            "625/625 [==============================] - 8s 13ms/step - loss: 0.1875 - accuracy: 0.9261 - val_loss: 0.5295 - val_accuracy: 0.8088\n",
            "Epoch 8/50\n",
            "625/625 [==============================] - 8s 13ms/step - loss: 0.1571 - accuracy: 0.9382 - val_loss: 0.5650 - val_accuracy: 0.8113\n",
            "Epoch 9/50\n",
            "625/625 [==============================] - 8s 13ms/step - loss: 0.1297 - accuracy: 0.9533 - val_loss: 0.6300 - val_accuracy: 0.8034\n",
            "Epoch 10/50\n",
            "625/625 [==============================] - 8s 13ms/step - loss: 0.1061 - accuracy: 0.9619 - val_loss: 0.7212 - val_accuracy: 0.8024\n",
            "Epoch 11/50\n",
            "625/625 [==============================] - 8s 13ms/step - loss: 0.0877 - accuracy: 0.9693 - val_loss: 0.8100 - val_accuracy: 0.7992\n",
            "Epoch 12/50\n",
            "625/625 [==============================] - 8s 13ms/step - loss: 0.0733 - accuracy: 0.9750 - val_loss: 0.8814 - val_accuracy: 0.7970\n",
            "Epoch 13/50\n",
            "625/625 [==============================] - 8s 13ms/step - loss: 0.0614 - accuracy: 0.9787 - val_loss: 0.9691 - val_accuracy: 0.7976\n",
            "Epoch 14/50\n",
            "625/625 [==============================] - 8s 13ms/step - loss: 0.0542 - accuracy: 0.9811 - val_loss: 1.0664 - val_accuracy: 0.7985\n",
            "Epoch 15/50\n",
            "625/625 [==============================] - 8s 13ms/step - loss: 0.0491 - accuracy: 0.9820 - val_loss: 1.1995 - val_accuracy: 0.7952\n",
            "Epoch 16/50\n",
            "625/625 [==============================] - 8s 13ms/step - loss: 0.0482 - accuracy: 0.9815 - val_loss: 1.3869 - val_accuracy: 0.7761\n",
            "Epoch 17/50\n",
            "625/625 [==============================] - 8s 12ms/step - loss: 0.0491 - accuracy: 0.9815 - val_loss: 1.3063 - val_accuracy: 0.7948\n",
            "Epoch 18/50\n",
            "625/625 [==============================] - 8s 13ms/step - loss: 0.0424 - accuracy: 0.9844 - val_loss: 1.3701 - val_accuracy: 0.7910\n",
            "Epoch 19/50\n",
            "625/625 [==============================] - 8s 13ms/step - loss: 0.0375 - accuracy: 0.9863 - val_loss: 1.4815 - val_accuracy: 0.7940\n",
            "Epoch 20/50\n",
            "625/625 [==============================] - 8s 13ms/step - loss: 0.0317 - accuracy: 0.9886 - val_loss: 1.5373 - val_accuracy: 0.7874\n",
            "Epoch 21/50\n",
            "625/625 [==============================] - 8s 13ms/step - loss: 0.0355 - accuracy: 0.9854 - val_loss: 1.5373 - val_accuracy: 0.7885\n",
            "Epoch 22/50\n",
            "625/625 [==============================] - 8s 13ms/step - loss: 0.0362 - accuracy: 0.9861 - val_loss: 1.5259 - val_accuracy: 0.7885\n",
            "Epoch 23/50\n",
            "625/625 [==============================] - 8s 13ms/step - loss: 0.0338 - accuracy: 0.9861 - val_loss: 1.5903 - val_accuracy: 0.7891\n",
            "Epoch 24/50\n",
            "625/625 [==============================] - 8s 13ms/step - loss: 0.0312 - accuracy: 0.9876 - val_loss: 1.6737 - val_accuracy: 0.7825\n",
            "Epoch 25/50\n",
            "625/625 [==============================] - 8s 13ms/step - loss: 0.0295 - accuracy: 0.9880 - val_loss: 1.7337 - val_accuracy: 0.7858\n",
            "Epoch 26/50\n",
            "625/625 [==============================] - 8s 13ms/step - loss: 0.0275 - accuracy: 0.9887 - val_loss: 1.8002 - val_accuracy: 0.7861\n",
            "Epoch 27/50\n",
            "625/625 [==============================] - 8s 13ms/step - loss: 0.0309 - accuracy: 0.9875 - val_loss: 1.7959 - val_accuracy: 0.7891\n",
            "Epoch 28/50\n",
            "625/625 [==============================] - 8s 13ms/step - loss: 0.0328 - accuracy: 0.9862 - val_loss: 1.7740 - val_accuracy: 0.7916\n",
            "Epoch 29/50\n",
            "625/625 [==============================] - 8s 13ms/step - loss: 0.0276 - accuracy: 0.9886 - val_loss: 1.8680 - val_accuracy: 0.7861\n",
            "Epoch 30/50\n",
            "625/625 [==============================] - 8s 13ms/step - loss: 0.0220 - accuracy: 0.9908 - val_loss: 1.8246 - val_accuracy: 0.7860\n",
            "Epoch 31/50\n",
            "625/625 [==============================] - 8s 13ms/step - loss: 0.0210 - accuracy: 0.9905 - val_loss: 2.0516 - val_accuracy: 0.7933\n",
            "Epoch 32/50\n",
            "625/625 [==============================] - 8s 13ms/step - loss: 0.0269 - accuracy: 0.9886 - val_loss: 1.9974 - val_accuracy: 0.7930\n",
            "Epoch 33/50\n",
            "625/625 [==============================] - 8s 13ms/step - loss: 0.0317 - accuracy: 0.9872 - val_loss: 1.8488 - val_accuracy: 0.7931\n",
            "Epoch 34/50\n",
            "625/625 [==============================] - 8s 13ms/step - loss: 0.0249 - accuracy: 0.9895 - val_loss: 2.0961 - val_accuracy: 0.7874\n",
            "Epoch 35/50\n",
            "625/625 [==============================] - 8s 13ms/step - loss: 0.0213 - accuracy: 0.9905 - val_loss: 2.0972 - val_accuracy: 0.7900\n",
            "Epoch 36/50\n",
            "625/625 [==============================] - 8s 13ms/step - loss: 0.0222 - accuracy: 0.9905 - val_loss: 2.3196 - val_accuracy: 0.7843\n",
            "Epoch 37/50\n",
            "625/625 [==============================] - 8s 13ms/step - loss: 0.0249 - accuracy: 0.9897 - val_loss: 2.1203 - val_accuracy: 0.7918\n",
            "Epoch 38/50\n",
            "625/625 [==============================] - 8s 13ms/step - loss: 0.0257 - accuracy: 0.9898 - val_loss: 2.0191 - val_accuracy: 0.7918\n",
            "Epoch 39/50\n",
            "625/625 [==============================] - 8s 13ms/step - loss: 0.0258 - accuracy: 0.9896 - val_loss: 2.1273 - val_accuracy: 0.7886\n",
            "Epoch 40/50\n",
            "625/625 [==============================] - 8s 13ms/step - loss: 0.0245 - accuracy: 0.9899 - val_loss: 2.0923 - val_accuracy: 0.7986\n",
            "Epoch 41/50\n",
            "625/625 [==============================] - 8s 13ms/step - loss: 0.0225 - accuracy: 0.9908 - val_loss: 2.2599 - val_accuracy: 0.7773\n",
            "Epoch 42/50\n",
            "625/625 [==============================] - 8s 13ms/step - loss: 0.0182 - accuracy: 0.9916 - val_loss: 2.2890 - val_accuracy: 0.7891\n",
            "Epoch 43/50\n",
            "625/625 [==============================] - 8s 14ms/step - loss: 0.0166 - accuracy: 0.9929 - val_loss: 2.3351 - val_accuracy: 0.7958\n",
            "Epoch 44/50\n",
            "625/625 [==============================] - 8s 13ms/step - loss: 0.0181 - accuracy: 0.9916 - val_loss: 2.4580 - val_accuracy: 0.7828\n",
            "Epoch 45/50\n",
            "625/625 [==============================] - 8s 13ms/step - loss: 0.0275 - accuracy: 0.9880 - val_loss: 2.2305 - val_accuracy: 0.7928\n",
            "Epoch 46/50\n",
            "625/625 [==============================] - 8s 13ms/step - loss: 0.0242 - accuracy: 0.9901 - val_loss: 2.4142 - val_accuracy: 0.7880\n",
            "Epoch 47/50\n",
            "625/625 [==============================] - 8s 13ms/step - loss: 0.0233 - accuracy: 0.9901 - val_loss: 2.4073 - val_accuracy: 0.7965\n",
            "Epoch 48/50\n",
            "625/625 [==============================] - 8s 13ms/step - loss: 0.0180 - accuracy: 0.9922 - val_loss: 2.4709 - val_accuracy: 0.7907\n",
            "Epoch 49/50\n",
            "625/625 [==============================] - 8s 13ms/step - loss: 0.0175 - accuracy: 0.9920 - val_loss: 2.4917 - val_accuracy: 0.7936\n",
            "Epoch 50/50\n",
            "625/625 [==============================] - 8s 13ms/step - loss: 0.0217 - accuracy: 0.9902 - val_loss: 2.6027 - val_accuracy: 0.7909\n"
          ],
          "name": "stdout"
        }
      ]
    },
    {
      "cell_type": "code",
      "metadata": {
        "id": "bM6fgEh80M-u",
        "outputId": "98032f40-3f23-4d5e-dfc8-ec89a8363616",
        "colab": {
          "base_uri": "https://localhost:8080/",
          "height": 683
        }
      },
      "source": [
        "import matplotlib.pyplot as plt \n",
        "def plot_graph(history,string):\n",
        "  plt.plot(history.history[string])\n",
        "  plt.plot(history.history['val_'+string])\n",
        "  plt.xlabel(\"epochs\")\n",
        "  plt.ylabel(string)\n",
        "  plt.legend([string],[\"val_\"+string])\n",
        "  plt.show()\n",
        "plot_graph(history,'accuracy')\n",
        "plot_graph(history,'loss')"
      ],
      "execution_count": null,
      "outputs": [
        {
          "output_type": "stream",
          "text": [
            "/usr/local/lib/python3.6/dist-packages/ipykernel_launcher.py:7: UserWarning: Legend does not support 'accuracy' instances.\n",
            "A proxy artist may be used instead.\n",
            "See: http://matplotlib.org/users/legend_guide.html#creating-artists-specifically-for-adding-to-the-legend-aka-proxy-artists\n",
            "  import sys\n"
          ],
          "name": "stderr"
        },
        {
          "output_type": "display_data",
          "data": {
            "image/png": "[encoded data removed]",
            "text/plain": [
              "<Figure size 432x288 with 1 Axes>"
            ]
          },
          "metadata": {
            "tags": [],
            "needs_background": "light"
          }
        },
        {
          "output_type": "stream",
          "text": [
            "/usr/local/lib/python3.6/dist-packages/ipykernel_launcher.py:7: UserWarning: Legend does not support 'loss' instances.\n",
            "A proxy artist may be used instead.\n",
            "See: http://matplotlib.org/users/legend_guide.html#creating-artists-specifically-for-adding-to-the-legend-aka-proxy-artists\n",
            "  import sys\n"
          ],
          "name": "stderr"
        },
        {
          "output_type": "display_data",
          "data": {
            "image/png": "[encoded data removed]",
            "text/plain": [
              "<Figure size 432x288 with 1 Axes>"
            ]
          },
          "metadata": {
            "tags": [],
            "needs_background": "light"
          }
        }
      ]
    },
    {
      "cell_type": "code",
      "metadata": {
        "id": "Bs3mIBKr3EZm"
      },
      "source": [
        ""
      ],
      "execution_count": null,
      "outputs": []
    }
  ]
}