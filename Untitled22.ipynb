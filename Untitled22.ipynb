{
  "nbformat": 4,
  "nbformat_minor": 0,
  "metadata": {
    "colab": {
      "name": "Untitled22.ipynb",
      "provenance": [],
      "collapsed_sections": []
    },
    "kernelspec": {
      "name": "python3",
      "display_name": "Python 3"
    }
  },
  "cells": [
    {
      "cell_type": "code",
      "metadata": {
        "id": "fUOekbzHnEB9",
        "outputId": "cd972953-b840-4df6-f59e-86efb4d27bf6",
        "colab": {
          "base_uri": "https://localhost:8080/",
          "height": 210
        }
      },
      "source": [
        "\n",
        "!wget --no-check-certificate \\\n",
        "    https://storage.googleapis.com/laurencemoroney-blog.appspot.com/sarcasm.json \\\n",
        "    -O /tmp/sarcasm.json"
      ],
      "execution_count": null,
      "outputs": [
        {
          "output_type": "stream",
          "text": [
            "--2020-10-21 14:35:02--  https://storage.googleapis.com/laurencemoroney-blog.appspot.com/sarcasm.json\n",
            "Resolving storage.googleapis.com (storage.googleapis.com)... 64.233.189.128, 108.177.125.128, 74.125.23.128, ...\n",
            "Connecting to storage.googleapis.com (storage.googleapis.com)|64.233.189.128|:443... connected.\n",
            "HTTP request sent, awaiting response... 200 OK\n",
            "Length: 5643545 (5.4M) [application/json]\n",
            "Saving to: ‘/tmp/sarcasm.json’\n",
            "\n",
            "\r/tmp/sarcasm.json     0%[                    ]       0  --.-KB/s               \r/tmp/sarcasm.json   100%[===================>]   5.38M  --.-KB/s    in 0.05s   \n",
            "\n",
            "2020-10-21 14:35:02 (104 MB/s) - ‘/tmp/sarcasm.json’ saved [5643545/5643545]\n",
            "\n"
          ],
          "name": "stdout"
        }
      ]
    },
    {
      "cell_type": "code",
      "metadata": {
        "id": "GaMiEgRTnSRq"
      },
      "source": [
        "vocab_size = 1000\n",
        "embedding_dim = 16\n",
        "max_length = 120\n",
        "trunc_type='post'\n",
        "padding_type='post'\n",
        "oov_tok = \"<OOV>\"\n",
        "training_size = 20000"
      ],
      "execution_count": null,
      "outputs": []
    },
    {
      "cell_type": "code",
      "metadata": {
        "id": "vz8c58-8naV7"
      },
      "source": [
        "import json\n",
        "with open('/tmp/sarcasm.json','r') as f:\n",
        "  datastore = json.load(f)"
      ],
      "execution_count": null,
      "outputs": []
    },
    {
      "cell_type": "code",
      "metadata": {
        "id": "LWm2LBDDq7Hy"
      },
      "source": [
        "sentences =[]\n",
        "labels =[]\n",
        "for item in datastore:\n",
        "  sentences.append(item['headline'])\n",
        "  labels.append(item['is_sarcastic'])"
      ],
      "execution_count": null,
      "outputs": []
    },
    {
      "cell_type": "code",
      "metadata": {
        "id": "XoyopV1-rORE"
      },
      "source": [
        "training_sentences= sentences[0:training_size]\n",
        "training_labels = labels[0:training_size]\n",
        "testing_sentences = sentences[training_size:]\n",
        "testing_labels = labels[training_size:]\n"
      ],
      "execution_count": null,
      "outputs": []
    },
    {
      "cell_type": "code",
      "metadata": {
        "id": "U6VD937YryhV"
      },
      "source": [
        "import numpy as np\n",
        "training_sentences=np.array(training_sentences) \n",
        "testing_sentences =np.array(testing_sentences)\n",
        "training_labels = np.array(training_labels)\n",
        "testing_labels= np.array(testing_labels)\n"
      ],
      "execution_count": null,
      "outputs": []
    },
    {
      "cell_type": "code",
      "metadata": {
        "id": "XR6Z3L3ysDKk"
      },
      "source": [
        "import tensorflow as tf\n",
        "from tensorflow.keras.preprocessing.text import Tokenizer\n",
        "from tensorflow.keras.preprocessing.sequence import pad_sequences"
      ],
      "execution_count": null,
      "outputs": []
    },
    {
      "cell_type": "code",
      "metadata": {
        "id": "hrvQ2fmYsluk"
      },
      "source": [
        "tokenizer = Tokenizer(num_words=vocab_size,oov_token='<OOV>')\n",
        "tokenizer.fit_on_texts(training_sentences)\n",
        "word_index = tokenizer.word_index\n",
        "seq = tokenizer.texts_to_sequences(training_sentences)\n",
        "pad = pad_sequences(seq,truncating = trunc_type,maxlen= max_length,padding = 'post')"
      ],
      "execution_count": null,
      "outputs": []
    },
    {
      "cell_type": "code",
      "metadata": {
        "id": "wf-kdWDRkdIR"
      },
      "source": [
        "seq_t = tokenizer.texts_to_sequences(testing_sentences)\n",
        "pad_t = pad_sequences(seq_t,truncating= trunc_type,padding= 'post',maxlen = max_length)"
      ],
      "execution_count": null,
      "outputs": []
    },
    {
      "cell_type": "code",
      "metadata": {
        "id": "i7Tj33uilOSo"
      },
      "source": [
        "pad_t = np.array(pad_t)\n",
        "pad =np.array(pad)\n",
        "training_labels_final =np.array(training_labels)\n",
        "testing_labels_final = np.array(testing_labels)"
      ],
      "execution_count": null,
      "outputs": []
    },
    {
      "cell_type": "code",
      "metadata": {
        "id": "bHw2-KUClkBW"
      },
      "source": [
        "model = tf.keras.Sequential([\n",
        "                             tf.keras.layers.Embedding(vocab_size,embedding_dim,input_length = max_length),\n",
        "                             tf.keras.layers.Bidirectional(tf.keras.layers.LSTM(32)),\n",
        "                             tf.keras.layers.Dense(24,activation='relu'),\n",
        "                             tf.keras.layers.Dense(1,activation= 'sigmoid')\n",
        "])"
      ],
      "execution_count": null,
      "outputs": []
    },
    {
      "cell_type": "code",
      "metadata": {
        "id": "DyERVS7MlyTu",
        "outputId": "0c12bf0a-89e2-4038-c82e-0374d6eda9d5",
        "colab": {
          "base_uri": "https://localhost:8080/",
          "height": 298
        }
      },
      "source": [
        "model.compile(loss = 'binary_crossentropy',metrics=['accuracy'],optimizer= 'adam')\n",
        "model.summary()"
      ],
      "execution_count": null,
      "outputs": [
        {
          "output_type": "stream",
          "text": [
            "Model: \"sequential_1\"\n",
            "_________________________________________________________________\n",
            "Layer (type)                 Output Shape              Param #   \n",
            "=================================================================\n",
            "embedding_2 (Embedding)      (None, 120, 16)           16000     \n",
            "_________________________________________________________________\n",
            "bidirectional (Bidirectional (None, 64)                12544     \n",
            "_________________________________________________________________\n",
            "dense (Dense)                (None, 24)                1560      \n",
            "_________________________________________________________________\n",
            "dense_1 (Dense)              (None, 1)                 25        \n",
            "=================================================================\n",
            "Total params: 30,129\n",
            "Trainable params: 30,129\n",
            "Non-trainable params: 0\n",
            "_________________________________________________________________\n"
          ],
          "name": "stdout"
        }
      ]
    },
    {
      "cell_type": "code",
      "metadata": {
        "id": "waOfmymFmWw9",
        "outputId": "4b664853-b27a-46b1-e77c-be187b366638",
        "colab": {
          "base_uri": "https://localhost:8080/",
          "height": 1000
        }
      },
      "source": [
        "history=model.fit(pad,training_labels_final,epochs= 50,validation_data=(pad_t,testing_labels_final))"
      ],
      "execution_count": null,
      "outputs": [
        {
          "output_type": "stream",
          "text": [
            "Epoch 1/50\n",
            "625/625 [==============================] - 32s 51ms/step - loss: 0.4557 - accuracy: 0.7673 - val_loss: 0.3911 - val_accuracy: 0.8216\n",
            "Epoch 2/50\n",
            "625/625 [==============================] - 31s 49ms/step - loss: 0.3662 - accuracy: 0.8308 - val_loss: 0.3870 - val_accuracy: 0.8231\n",
            "Epoch 3/50\n",
            "625/625 [==============================] - 31s 49ms/step - loss: 0.3499 - accuracy: 0.8382 - val_loss: 0.3882 - val_accuracy: 0.8210\n",
            "Epoch 4/50\n",
            "625/625 [==============================] - 31s 50ms/step - loss: 0.3365 - accuracy: 0.8472 - val_loss: 0.3786 - val_accuracy: 0.8243\n",
            "Epoch 5/50\n",
            "625/625 [==============================] - 31s 50ms/step - loss: 0.3189 - accuracy: 0.8557 - val_loss: 0.3735 - val_accuracy: 0.8340\n",
            "Epoch 6/50\n",
            "625/625 [==============================] - 31s 49ms/step - loss: 0.3050 - accuracy: 0.8641 - val_loss: 0.3781 - val_accuracy: 0.8331\n",
            "Epoch 7/50\n",
            "625/625 [==============================] - 31s 49ms/step - loss: 0.2954 - accuracy: 0.8692 - val_loss: 0.3841 - val_accuracy: 0.8293\n",
            "Epoch 8/50\n",
            "625/625 [==============================] - 31s 49ms/step - loss: 0.2872 - accuracy: 0.8730 - val_loss: 0.3781 - val_accuracy: 0.8302\n",
            "Epoch 9/50\n",
            "625/625 [==============================] - 31s 49ms/step - loss: 0.2809 - accuracy: 0.8763 - val_loss: 0.3894 - val_accuracy: 0.8329\n",
            "Epoch 10/50\n",
            "625/625 [==============================] - 31s 50ms/step - loss: 0.2736 - accuracy: 0.8788 - val_loss: 0.3846 - val_accuracy: 0.8328\n",
            "Epoch 11/50\n",
            "625/625 [==============================] - 31s 49ms/step - loss: 0.2677 - accuracy: 0.8831 - val_loss: 0.3889 - val_accuracy: 0.8305\n",
            "Epoch 12/50\n",
            "625/625 [==============================] - 31s 50ms/step - loss: 0.2585 - accuracy: 0.8859 - val_loss: 0.4069 - val_accuracy: 0.8246\n",
            "Epoch 13/50\n",
            "625/625 [==============================] - 31s 50ms/step - loss: 0.2534 - accuracy: 0.8913 - val_loss: 0.4297 - val_accuracy: 0.8265\n",
            "Epoch 14/50\n",
            "625/625 [==============================] - 31s 49ms/step - loss: 0.2469 - accuracy: 0.8917 - val_loss: 0.4126 - val_accuracy: 0.8243\n",
            "Epoch 15/50\n",
            "625/625 [==============================] - 31s 49ms/step - loss: 0.2379 - accuracy: 0.8968 - val_loss: 0.4255 - val_accuracy: 0.8243\n",
            "Epoch 16/50\n",
            "625/625 [==============================] - 31s 49ms/step - loss: 0.2291 - accuracy: 0.9003 - val_loss: 0.4820 - val_accuracy: 0.8201\n",
            "Epoch 17/50\n",
            "625/625 [==============================] - 31s 50ms/step - loss: 0.2219 - accuracy: 0.9048 - val_loss: 0.4769 - val_accuracy: 0.8235\n",
            "Epoch 18/50\n",
            "625/625 [==============================] - 31s 49ms/step - loss: 0.2136 - accuracy: 0.9086 - val_loss: 0.4875 - val_accuracy: 0.8192\n",
            "Epoch 19/50\n",
            "625/625 [==============================] - 31s 50ms/step - loss: 0.2068 - accuracy: 0.9111 - val_loss: 0.4889 - val_accuracy: 0.8258\n",
            "Epoch 20/50\n",
            "625/625 [==============================] - 31s 50ms/step - loss: 0.1975 - accuracy: 0.9159 - val_loss: 0.5328 - val_accuracy: 0.8210\n",
            "Epoch 21/50\n",
            "625/625 [==============================] - 31s 49ms/step - loss: 0.1917 - accuracy: 0.9177 - val_loss: 0.5466 - val_accuracy: 0.8174\n",
            "Epoch 22/50\n",
            "625/625 [==============================] - 30s 49ms/step - loss: 0.1839 - accuracy: 0.9214 - val_loss: 0.6133 - val_accuracy: 0.8152\n",
            "Epoch 23/50\n",
            "625/625 [==============================] - 31s 50ms/step - loss: 0.1818 - accuracy: 0.9233 - val_loss: 0.5824 - val_accuracy: 0.8159\n",
            "Epoch 24/50\n",
            "625/625 [==============================] - 31s 49ms/step - loss: 0.1738 - accuracy: 0.9265 - val_loss: 0.6214 - val_accuracy: 0.8153\n",
            "Epoch 25/50\n",
            "625/625 [==============================] - 31s 49ms/step - loss: 0.1671 - accuracy: 0.9303 - val_loss: 0.6569 - val_accuracy: 0.8104\n",
            "Epoch 26/50\n",
            "625/625 [==============================] - 31s 49ms/step - loss: 0.1633 - accuracy: 0.9291 - val_loss: 0.7207 - val_accuracy: 0.8097\n",
            "Epoch 27/50\n",
            "625/625 [==============================] - 31s 50ms/step - loss: 0.1540 - accuracy: 0.9347 - val_loss: 0.7235 - val_accuracy: 0.8094\n",
            "Epoch 28/50\n",
            "625/625 [==============================] - 31s 49ms/step - loss: 0.1492 - accuracy: 0.9363 - val_loss: 0.8076 - val_accuracy: 0.8074\n",
            "Epoch 29/50\n",
            "625/625 [==============================] - 31s 49ms/step - loss: 0.1457 - accuracy: 0.9373 - val_loss: 0.8597 - val_accuracy: 0.8061\n",
            "Epoch 30/50\n",
            "625/625 [==============================] - 31s 50ms/step - loss: 0.1376 - accuracy: 0.9414 - val_loss: 0.8298 - val_accuracy: 0.8062\n",
            "Epoch 31/50\n",
            "625/625 [==============================] - 31s 50ms/step - loss: 0.1339 - accuracy: 0.9439 - val_loss: 0.8618 - val_accuracy: 0.8000\n",
            "Epoch 32/50\n",
            "625/625 [==============================] - 31s 50ms/step - loss: 0.1270 - accuracy: 0.9470 - val_loss: 0.9638 - val_accuracy: 0.8061\n",
            "Epoch 33/50\n",
            "625/625 [==============================] - 31s 50ms/step - loss: 0.1248 - accuracy: 0.9471 - val_loss: 0.9685 - val_accuracy: 0.8032\n",
            "Epoch 34/50\n",
            "625/625 [==============================] - 31s 49ms/step - loss: 0.1160 - accuracy: 0.9510 - val_loss: 1.0381 - val_accuracy: 0.8050\n",
            "Epoch 35/50\n",
            "625/625 [==============================] - 31s 50ms/step - loss: 0.1128 - accuracy: 0.9526 - val_loss: 1.2205 - val_accuracy: 0.7998\n",
            "Epoch 36/50\n",
            "625/625 [==============================] - 31s 49ms/step - loss: 0.1108 - accuracy: 0.9523 - val_loss: 1.0896 - val_accuracy: 0.8015\n",
            "Epoch 37/50\n",
            "625/625 [==============================] - 31s 49ms/step - loss: 0.1046 - accuracy: 0.9560 - val_loss: 1.2156 - val_accuracy: 0.8001\n",
            "Epoch 38/50\n",
            "625/625 [==============================] - 31s 49ms/step - loss: 0.0979 - accuracy: 0.9584 - val_loss: 1.2846 - val_accuracy: 0.7994\n",
            "Epoch 39/50\n",
            "625/625 [==============================] - 37s 59ms/step - loss: 0.1003 - accuracy: 0.9575 - val_loss: 1.2004 - val_accuracy: 0.7994\n",
            "Epoch 40/50\n",
            "625/625 [==============================] - 31s 50ms/step - loss: 0.0911 - accuracy: 0.9609 - val_loss: 1.3521 - val_accuracy: 0.7968\n",
            "Epoch 41/50\n",
            "625/625 [==============================] - 31s 50ms/step - loss: 0.0878 - accuracy: 0.9625 - val_loss: 1.4812 - val_accuracy: 0.7983\n",
            "Epoch 42/50\n",
            "625/625 [==============================] - 31s 50ms/step - loss: 0.0901 - accuracy: 0.9611 - val_loss: 1.3414 - val_accuracy: 0.7977\n",
            "Epoch 43/50\n",
            "625/625 [==============================] - 31s 49ms/step - loss: 0.0824 - accuracy: 0.9645 - val_loss: 1.3746 - val_accuracy: 0.7997\n",
            "Epoch 44/50\n",
            "625/625 [==============================] - 31s 49ms/step - loss: 0.0745 - accuracy: 0.9669 - val_loss: 1.5502 - val_accuracy: 0.7946\n",
            "Epoch 45/50\n",
            "625/625 [==============================] - 31s 49ms/step - loss: 0.0802 - accuracy: 0.9656 - val_loss: 1.6395 - val_accuracy: 0.7971\n",
            "Epoch 46/50\n",
            "625/625 [==============================] - 31s 50ms/step - loss: 0.0749 - accuracy: 0.9671 - val_loss: 1.5623 - val_accuracy: 0.7907\n",
            "Epoch 47/50\n",
            "625/625 [==============================] - 31s 49ms/step - loss: 0.0706 - accuracy: 0.9689 - val_loss: 1.6430 - val_accuracy: 0.7961\n",
            "Epoch 48/50\n",
            "625/625 [==============================] - 31s 50ms/step - loss: 0.0728 - accuracy: 0.9678 - val_loss: 1.6727 - val_accuracy: 0.7951\n",
            "Epoch 49/50\n",
            "625/625 [==============================] - 31s 50ms/step - loss: 0.0674 - accuracy: 0.9693 - val_loss: 1.7361 - val_accuracy: 0.7919\n",
            "Epoch 50/50\n",
            "625/625 [==============================] - 31s 50ms/step - loss: 0.0626 - accuracy: 0.9712 - val_loss: 1.7456 - val_accuracy: 0.7936\n"
          ],
          "name": "stdout"
        }
      ]
    },
    {
      "cell_type": "code",
      "metadata": {
        "id": "YsgiSYN2mnEe",
        "outputId": "549ee1e7-c6a7-4347-da5a-c6618c9a3638",
        "colab": {
          "base_uri": "https://localhost:8080/",
          "height": 541
        }
      },
      "source": [
        "import matplotlib.pyplot as plt \n",
        "def plot_g(history,string):\n",
        "  plt.plot(history.history[string])\n",
        "  plt.plot(history.history[\"val_\"+string])\n",
        "  plt.xlabel(\"epochs\")\n",
        "  plt.ylabel(string)\n",
        "  plt.legend([string,'val_'+string])\n",
        "  plt.show()\n",
        "plot_g(history,'accuracy')\n",
        "plot_g(history,'loss')"
      ],
      "execution_count": null,
      "outputs": [
        {
          "output_type": "display_data",
          "data": {
            "image/png": "[encoded data removed]",
            "text/plain": [
              "<Figure size 432x288 with 1 Axes>"
            ]
          },
          "metadata": {
            "tags": [],
            "needs_background": "light"
          }
        },
        {
          "output_type": "display_data",
          "data": {
            "image/png": "[encoded data removed]",
            "text/plain": [
              "<Figure size 432x288 with 1 Axes>"
            ]
          },
          "metadata": {
            "tags": [],
            "needs_background": "light"
          }
        }
      ]
    },
    {
      "cell_type": "code",
      "metadata": {
        "id": "r34BHrvXnWO3"
      },
      "source": [
        "model.save('test.h5')"
      ],
      "execution_count": null,
      "outputs": []
    },
    {
      "cell_type": "code",
      "metadata": {
        "id": "S4EB4N4Vndmx"
      },
      "source": [
        ""
      ],
      "execution_count": null,
      "outputs": []
    }
  ]
}