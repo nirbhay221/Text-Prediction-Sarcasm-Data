{
  "nbformat": 4,
  "nbformat_minor": 0,
  "metadata": {
    "colab": {
      "name": "Untitled7.ipynb",
      "provenance": []
    },
    "kernelspec": {
      "name": "python3",
      "display_name": "Python 3"
    }
  },
  "cells": [
    {
      "cell_type": "code",
      "metadata": {
        "id": "gLDajd19AUK1"
      },
      "source": [
        "import tensorflow as tf \n",
        "from tensorflow.keras.preprocessing.text import Tokenizer\n",
        "from tensorflow.keras.preprocessing.sequence import pad_sequences"
      ],
      "execution_count": null,
      "outputs": []
    },
    {
      "cell_type": "code",
      "metadata": {
        "id": "Ileq__KnuQKG",
        "outputId": "b133fcb7-bdb0-4b2d-bed5-5592bf4ca33f",
        "colab": {
          "base_uri": "https://localhost:8080/",
          "height": 204
        }
      },
      "source": [
        "!wget --no-check-certificate \\\n",
        "    https://storage.googleapis.com/laurencemoroney-blog.appspot.com/sarcasm.json \\\n",
        "    -O /tmp/sarcasm.json\n"
      ],
      "execution_count": null,
      "outputs": [
        {
          "output_type": "stream",
          "text": [
            "--2020-10-16 18:47:47--  https://storage.googleapis.com/laurencemoroney-blog.appspot.com/sarcasm.json\n",
            "Resolving storage.googleapis.com (storage.googleapis.com)... 173.194.217.128, 108.177.11.128, 172.217.204.128, ...\n",
            "Connecting to storage.googleapis.com (storage.googleapis.com)|173.194.217.128|:443... connected.\n",
            "HTTP request sent, awaiting response... 200 OK\n",
            "Length: 5643545 (5.4M) [application/json]\n",
            "Saving to: ‘/tmp/sarcasm.json’\n",
            "\n",
            "\r/tmp/sarcasm.json     0%[                    ]       0  --.-KB/s               \r/tmp/sarcasm.json   100%[===================>]   5.38M  --.-KB/s    in 0.05s   \n",
            "\n",
            "2020-10-16 18:47:47 (106 MB/s) - ‘/tmp/sarcasm.json’ saved [5643545/5643545]\n",
            "\n"
          ],
          "name": "stdout"
        }
      ]
    },
    {
      "cell_type": "code",
      "metadata": {
        "id": "cOjflXCNuZ9L"
      },
      "source": [
        "import json\n",
        "with open(\"/tmp/sarcasm.json\", 'r') as f:\n",
        "    datastore = json.load(f)\n",
        "\n",
        "sentences = []\n",
        "labels = []\n",
        "\n",
        "for item in datastore:\n",
        "    sentences.append(item['headline'])\n",
        "    labels.append(item['is_sarcastic'])"
      ],
      "execution_count": null,
      "outputs": []
    },
    {
      "cell_type": "code",
      "metadata": {
        "id": "tSMLAGG0uhwT"
      },
      "source": [
        "vocab_size = 10000\n",
        "embedding_dim =16\n",
        "max_length = 100\n",
        "trunc_type = 'post'\n",
        "padding_type = 'post'\n",
        "oov_token = '<OOV>'\n",
        "training_size =20000"
      ],
      "execution_count": null,
      "outputs": []
    },
    {
      "cell_type": "code",
      "metadata": {
        "id": "yvT0HZOPu9aG"
      },
      "source": [
        "training_sentences = sentences[0:training_size]\n",
        "testing_sentences = sentences[training_size:]\n",
        "training_labels =labels[0:training_size]\n",
        "testing_labels = labels[training_size:]"
      ],
      "execution_count": null,
      "outputs": []
    },
    {
      "cell_type": "code",
      "metadata": {
        "id": "FaXItEpjvb4L"
      },
      "source": [
        "tokenizer = Tokenizer(num_words = vocab_size,oov_token='<OOV>')\n",
        "tokenizer.fit_on_texts(training_sentences)\n",
        "word_index  = tokenizer.word_index\n",
        "sequences = tokenizer.texts_to_sequences(training_sentences)\n",
        "padded = pad_sequences(sequences,truncating=trunc_type,padding = padding_type,maxlen=max_length)\n",
        "\n",
        "sequences_t = tokenizer.texts_to_sequences(testing_sentences)\n",
        "padded_t = pad_sequences(sequences_t,truncating=trunc_type,padding = padding_type,maxlen=max_length)"
      ],
      "execution_count": null,
      "outputs": []
    },
    {
      "cell_type": "code",
      "metadata": {
        "id": "xNJ_OcHmweMF"
      },
      "source": [
        "import numpy as np \n",
        "padded_f = np.array(padded)\n",
        "padded_ft = np.array(padded_t)\n",
        "training_labels_f = np.array(training_labels)\n",
        "testing_labels_f = np.array(testing_labels)"
      ],
      "execution_count": null,
      "outputs": []
    },
    {
      "cell_type": "code",
      "metadata": {
        "id": "orVI0shmxTwh"
      },
      "source": [
        "model =tf.keras.Sequential(\n",
        "    [\n",
        "     tf.keras.layers.Embedding(vocab_size,embedding_dim,input_length = max_length),\n",
        "     tf.keras.layers.MaxPooling1D(),\n",
        "     tf.keras.layers.Dense(24,activation = 'relu'),\n",
        "     tf.keras.layers.Dense(1 ,activation = 'sigmoid')\n",
        "    ]\n",
        ")"
      ],
      "execution_count": null,
      "outputs": []
    },
    {
      "cell_type": "code",
      "metadata": {
        "id": "MOOjO69BxZF-",
        "outputId": "3662397a-ed79-4b96-9efa-dd508f10fa10",
        "colab": {
          "base_uri": "https://localhost:8080/",
          "height": 289
        }
      },
      "source": [
        "model.compile(loss=\"binary_crossentropy\",optimizer = 'adam',metrics = ['accuracy'])\n",
        "model.summary()"
      ],
      "execution_count": null,
      "outputs": [
        {
          "output_type": "stream",
          "text": [
            "Model: \"sequential_13\"\n",
            "_________________________________________________________________\n",
            "Layer (type)                 Output Shape              Param #   \n",
            "=================================================================\n",
            "embedding_12 (Embedding)     (None, 100, 16)           160000    \n",
            "_________________________________________________________________\n",
            "max_pooling1d_1 (MaxPooling1 (None, 50, 16)            0         \n",
            "_________________________________________________________________\n",
            "dense_24 (Dense)             (None, 50, 24)            408       \n",
            "_________________________________________________________________\n",
            "dense_25 (Dense)             (None, 50, 1)             25        \n",
            "=================================================================\n",
            "Total params: 160,433\n",
            "Trainable params: 160,433\n",
            "Non-trainable params: 0\n",
            "_________________________________________________________________\n"
          ],
          "name": "stdout"
        }
      ]
    },
    {
      "cell_type": "code",
      "metadata": {
        "id": "2fEP_8DB0fzd",
        "outputId": "629ca38c-c8ae-432d-f6f5-e8abd51ae2c4",
        "colab": {
          "base_uri": "https://localhost:8080/",
          "height": 1000
        }
      },
      "source": [
        "num_epochs = 30\n",
        "history = model.fit(padded_f,training_labels_f,epochs = num_epochs ,validation_data=(padded_ft,testing_labels_f),verbose =2)"
      ],
      "execution_count": null,
      "outputs": [
        {
          "output_type": "stream",
          "text": [
            "Epoch 1/30\n",
            "625/625 - 3s - loss: 0.6807 - accuracy: 0.5678 - val_loss: 0.6759 - val_accuracy: 0.5755\n",
            "Epoch 2/30\n",
            "625/625 - 2s - loss: 0.6718 - accuracy: 0.5774 - val_loss: 0.6751 - val_accuracy: 0.5761\n",
            "Epoch 3/30\n",
            "625/625 - 2s - loss: 0.6678 - accuracy: 0.5798 - val_loss: 0.6756 - val_accuracy: 0.5759\n",
            "Epoch 4/30\n",
            "625/625 - 2s - loss: 0.6652 - accuracy: 0.5813 - val_loss: 0.6771 - val_accuracy: 0.5755\n",
            "Epoch 5/30\n",
            "625/625 - 2s - loss: 0.6627 - accuracy: 0.5826 - val_loss: 0.6788 - val_accuracy: 0.5754\n",
            "Epoch 6/30\n",
            "625/625 - 2s - loss: 0.6605 - accuracy: 0.5840 - val_loss: 0.6809 - val_accuracy: 0.5753\n",
            "Epoch 7/30\n",
            "625/625 - 2s - loss: 0.6585 - accuracy: 0.5850 - val_loss: 0.6836 - val_accuracy: 0.5754\n",
            "Epoch 8/30\n",
            "625/625 - 2s - loss: 0.6567 - accuracy: 0.5860 - val_loss: 0.6860 - val_accuracy: 0.5751\n",
            "Epoch 9/30\n",
            "625/625 - 2s - loss: 0.6548 - accuracy: 0.5868 - val_loss: 0.6895 - val_accuracy: 0.5751\n",
            "Epoch 10/30\n",
            "625/625 - 2s - loss: 0.6538 - accuracy: 0.5875 - val_loss: 0.6916 - val_accuracy: 0.5746\n",
            "Epoch 11/30\n",
            "625/625 - 2s - loss: 0.6525 - accuracy: 0.5881 - val_loss: 0.6949 - val_accuracy: 0.5745\n",
            "Epoch 12/30\n",
            "625/625 - 2s - loss: 0.6515 - accuracy: 0.5886 - val_loss: 0.6963 - val_accuracy: 0.5744\n",
            "Epoch 13/30\n",
            "625/625 - 2s - loss: 0.6506 - accuracy: 0.5890 - val_loss: 0.6999 - val_accuracy: 0.5746\n",
            "Epoch 14/30\n",
            "625/625 - 2s - loss: 0.6498 - accuracy: 0.5891 - val_loss: 0.7030 - val_accuracy: 0.5740\n",
            "Epoch 15/30\n",
            "625/625 - 2s - loss: 0.6493 - accuracy: 0.5894 - val_loss: 0.7044 - val_accuracy: 0.5742\n",
            "Epoch 16/30\n",
            "625/625 - 2s - loss: 0.6486 - accuracy: 0.5897 - val_loss: 0.7068 - val_accuracy: 0.5743\n",
            "Epoch 17/30\n",
            "625/625 - 2s - loss: 0.6481 - accuracy: 0.5899 - val_loss: 0.7085 - val_accuracy: 0.5743\n",
            "Epoch 18/30\n",
            "625/625 - 2s - loss: 0.6475 - accuracy: 0.5895 - val_loss: 0.7109 - val_accuracy: 0.5738\n",
            "Epoch 19/30\n",
            "625/625 - 2s - loss: 0.6472 - accuracy: 0.5902 - val_loss: 0.7130 - val_accuracy: 0.5743\n",
            "Epoch 20/30\n",
            "625/625 - 2s - loss: 0.6467 - accuracy: 0.5903 - val_loss: 0.7149 - val_accuracy: 0.5741\n",
            "Epoch 21/30\n",
            "625/625 - 3s - loss: 0.6465 - accuracy: 0.5905 - val_loss: 0.7169 - val_accuracy: 0.5740\n",
            "Epoch 22/30\n",
            "625/625 - 2s - loss: 0.6462 - accuracy: 0.5905 - val_loss: 0.7177 - val_accuracy: 0.5739\n",
            "Epoch 23/30\n",
            "625/625 - 2s - loss: 0.6459 - accuracy: 0.5906 - val_loss: 0.7200 - val_accuracy: 0.5740\n",
            "Epoch 24/30\n",
            "625/625 - 2s - loss: 0.6457 - accuracy: 0.5907 - val_loss: 0.7209 - val_accuracy: 0.5740\n",
            "Epoch 25/30\n",
            "625/625 - 2s - loss: 0.6453 - accuracy: 0.5908 - val_loss: 0.7226 - val_accuracy: 0.5741\n",
            "Epoch 26/30\n",
            "625/625 - 3s - loss: 0.6451 - accuracy: 0.5910 - val_loss: 0.7239 - val_accuracy: 0.5738\n",
            "Epoch 27/30\n",
            "625/625 - 3s - loss: 0.6450 - accuracy: 0.5910 - val_loss: 0.7261 - val_accuracy: 0.5737\n",
            "Epoch 28/30\n",
            "625/625 - 3s - loss: 0.6447 - accuracy: 0.5911 - val_loss: 0.7269 - val_accuracy: 0.5741\n",
            "Epoch 29/30\n",
            "625/625 - 3s - loss: 0.6446 - accuracy: 0.5911 - val_loss: 0.7277 - val_accuracy: 0.5739\n",
            "Epoch 30/30\n",
            "625/625 - 3s - loss: 0.6443 - accuracy: 0.5911 - val_loss: 0.7288 - val_accuracy: 0.5739\n"
          ],
          "name": "stdout"
        }
      ]
    },
    {
      "cell_type": "code",
      "metadata": {
        "id": "1O2mztof089O"
      },
      "source": [
        "import matplotlib.pyplot as plt "
      ],
      "execution_count": null,
      "outputs": []
    },
    {
      "cell_type": "code",
      "metadata": {
        "id": "KAF58QCa1HO6",
        "outputId": "e5506f45-fffb-4734-8afb-6b5307374a78",
        "colab": {
          "base_uri": "https://localhost:8080/",
          "height": 541
        }
      },
      "source": [
        "def plot_graphs(history,string):\n",
        "  plt.plot(history.history[string])\n",
        "  plt.plot(history.history['val_'+string])\n",
        "  plt.xlabel(\"Epochs\")\n",
        "  plt.ylabel(string)\n",
        "  plt.legend([string,'val_'+string])\n",
        "  plt.show()\n",
        "plot_graphs(history,'accuracy')\n",
        "plot_graphs(history,'loss')"
      ],
      "execution_count": null,
      "outputs": [
        {
          "output_type": "display_data",
          "data": {
            "image/png": "[encoded data removed]",
            "text/plain": [
              "<Figure size 432x288 with 1 Axes>"
            ]
          },
          "metadata": {
            "tags": [],
            "needs_background": "light"
          }
        },
        {
          "output_type": "display_data",
          "data": {
            "image/png": "[encoded data removed]",
            "text/plain": [
              "<Figure size 432x288 with 1 Axes>"
            ]
          },
          "metadata": {
            "tags": [],
            "needs_background": "light"
          }
        }
      ]
    },
    {
      "cell_type": "code",
      "metadata": {
        "id": "R8n2c0ZR1u2f"
      },
      "source": [
        "reverse_word_index = dict([(value,key) for (key,value) in word_index.items()])"
      ],
      "execution_count": null,
      "outputs": []
    },
    {
      "cell_type": "code",
      "metadata": {
        "id": "rYnoAqEj2E0b"
      },
      "source": [
        "def decode_sentences(text):\n",
        "  return ' '.join([reverse_word_index.get(i,'?') for i in text])"
      ],
      "execution_count": null,
      "outputs": []
    },
    {
      "cell_type": "code",
      "metadata": {
        "id": "37yrhTYp2mum",
        "outputId": "a0d28d69-301e-4e6c-c89c-72b779b1fa51",
        "colab": {
          "base_uri": "https://localhost:8080/",
          "height": 88
        }
      },
      "source": [
        "print(decode_sentences(padded[4]))\n",
        "print(training_sentences[4])\n",
        "print(labels[4])"
      ],
      "execution_count": null,
      "outputs": [
        {
          "output_type": "stream",
          "text": [
            "j k rowling wishes snape happy birthday in the most magical way ? ? ? ? ? ? ? ? ? ? ? ? ? ? ? ? ? ? ? ? ? ? ? ? ? ? ? ? ? ? ? ? ? ? ? ? ? ? ? ? ? ? ? ? ? ? ? ? ? ? ? ? ? ? ? ? ? ? ? ? ? ? ? ? ? ? ? ? ? ? ? ? ? ? ? ? ? ? ? ? ? ? ? ? ? ? ? ? ? ? ? ? ? ? ? ? ? ? ? ? ? ? ? ? ? ? ? ?\n",
            "j.k. rowling wishes snape happy birthday in the most magical way\n",
            "0\n"
          ],
          "name": "stdout"
        }
      ]
    },
    {
      "cell_type": "code",
      "metadata": {
        "id": "rDK6PaBt2_zw",
        "outputId": "97d2ccc9-6bb0-46d9-b322-b1d7188c3b5b",
        "colab": {
          "base_uri": "https://localhost:8080/",
          "height": 34
        }
      },
      "source": [
        "e = model.layers[0]\n",
        "weights = e.get_weights()[0]\n",
        "print(weights.shape) # shape: (vocab_size, embedding_dim)\n"
      ],
      "execution_count": null,
      "outputs": [
        {
          "output_type": "stream",
          "text": [
            "(10000, 16)\n"
          ],
          "name": "stdout"
        }
      ]
    },
    {
      "cell_type": "code",
      "metadata": {
        "id": "2v8uNEMF3E0S"
      },
      "source": [
        "import io\n",
        "out_v = io.open('vsec.tsv','w',encoding= 'utf-8')\n",
        "out_m = io.open('metasec.tsv','w',encoding= 'utf-8')"
      ],
      "execution_count": null,
      "outputs": []
    },
    {
      "cell_type": "code",
      "metadata": {
        "id": "kkgguWd-3hH6"
      },
      "source": [
        "\n",
        "for word_num in range(1, vocab_size):\n",
        "  word = reverse_word_index[word_num]\n",
        "  embeddings = weights[word_num]\n",
        "  out_m.write(word + \"\\n\")\n",
        "  out_v.write('\\t'.join([str(x) for x in embeddings]) + \"\\n\")\n"
      ],
      "execution_count": null,
      "outputs": []
    },
    {
      "cell_type": "code",
      "metadata": {
        "id": "gyikIeo04XXR"
      },
      "source": [
        "out_m.close()\n",
        "out_v.close()"
      ],
      "execution_count": null,
      "outputs": []
    },
    {
      "cell_type": "code",
      "metadata": {
        "id": "Qw0iF9Ze5DMf",
        "outputId": "8c9e1a17-fd0c-4297-a8f0-37cf48fb13d8",
        "colab": {
          "base_uri": "https://localhost:8080/",
          "height": 17
        }
      },
      "source": [
        "try:\n",
        "  from google.colab import files\n",
        "except ImportError:\n",
        "  pass\n",
        "else:\n",
        "  files.download('vsec.tsv')\n",
        "  files.download('metasec.tsv')"
      ],
      "execution_count": null,
      "outputs": [
        {
          "output_type": "display_data",
          "data": {
            "application/javascript": [
              "\n",
              "    async function download(id, filename, size) {\n",
              "      if (!google.colab.kernel.accessAllowed) {\n",
              "        return;\n",
              "      }\n",
              "      const div = document.createElement('div');\n",
              "      const label = document.createElement('label');\n",
              "      label.textContent = `Downloading \"${filename}\": `;\n",
              "      div.appendChild(label);\n",
              "      const progress = document.createElement('progress');\n",
              "      progress.max = size;\n",
              "      div.appendChild(progress);\n",
              "      document.body.appendChild(div);\n",
              "\n",
              "      const buffers = [];\n",
              "      let downloaded = 0;\n",
              "\n",
              "      const channel = await google.colab.kernel.comms.open(id);\n",
              "      // Send a message to notify the kernel that we're ready.\n",
              "      channel.send({})\n",
              "\n",
              "      for await (const message of channel.messages) {\n",
              "        // Send a message to notify the kernel that we're ready.\n",
              "        channel.send({})\n",
              "        if (message.buffers) {\n",
              "          for (const buffer of message.buffers) {\n",
              "            buffers.push(buffer);\n",
              "            downloaded += buffer.byteLength;\n",
              "            progress.value = downloaded;\n",
              "          }\n",
              "        }\n",
              "      }\n",
              "      const blob = new Blob(buffers, {type: 'application/binary'});\n",
              "      const a = document.createElement('a');\n",
              "      a.href = window.URL.createObjectURL(blob);\n",
              "      a.download = filename;\n",
              "      div.appendChild(a);\n",
              "      a.click();\n",
              "      div.remove();\n",
              "    }\n",
              "  "
            ],
            "text/plain": [
              "<IPython.core.display.Javascript object>"
            ]
          },
          "metadata": {
            "tags": []
          }
        },
        {
          "output_type": "display_data",
          "data": {
            "application/javascript": [
              "download(\"download_32fa1cfa-6b7b-4a5a-a1b8-424a45b8e7ee\", \"vsec.tsv\", 1814429)"
            ],
            "text/plain": [
              "<IPython.core.display.Javascript object>"
            ]
          },
          "metadata": {
            "tags": []
          }
        },
        {
          "output_type": "display_data",
          "data": {
            "application/javascript": [
              "\n",
              "    async function download(id, filename, size) {\n",
              "      if (!google.colab.kernel.accessAllowed) {\n",
              "        return;\n",
              "      }\n",
              "      const div = document.createElement('div');\n",
              "      const label = document.createElement('label');\n",
              "      label.textContent = `Downloading \"${filename}\": `;\n",
              "      div.appendChild(label);\n",
              "      const progress = document.createElement('progress');\n",
              "      progress.max = size;\n",
              "      div.appendChild(progress);\n",
              "      document.body.appendChild(div);\n",
              "\n",
              "      const buffers = [];\n",
              "      let downloaded = 0;\n",
              "\n",
              "      const channel = await google.colab.kernel.comms.open(id);\n",
              "      // Send a message to notify the kernel that we're ready.\n",
              "      channel.send({})\n",
              "\n",
              "      for await (const message of channel.messages) {\n",
              "        // Send a message to notify the kernel that we're ready.\n",
              "        channel.send({})\n",
              "        if (message.buffers) {\n",
              "          for (const buffer of message.buffers) {\n",
              "            buffers.push(buffer);\n",
              "            downloaded += buffer.byteLength;\n",
              "            progress.value = downloaded;\n",
              "          }\n",
              "        }\n",
              "      }\n",
              "      const blob = new Blob(buffers, {type: 'application/binary'});\n",
              "      const a = document.createElement('a');\n",
              "      a.href = window.URL.createObjectURL(blob);\n",
              "      a.download = filename;\n",
              "      div.appendChild(a);\n",
              "      a.click();\n",
              "      div.remove();\n",
              "    }\n",
              "  "
            ],
            "text/plain": [
              "<IPython.core.display.Javascript object>"
            ]
          },
          "metadata": {
            "tags": []
          }
        },
        {
          "output_type": "display_data",
          "data": {
            "application/javascript": [
              "download(\"download_91a7b2f7-aa91-47fa-82e9-5e5d39946ec3\", \"metasec.tsv\", 75974)"
            ],
            "text/plain": [
              "<IPython.core.display.Javascript object>"
            ]
          },
          "metadata": {
            "tags": []
          }
        }
      ]
    },
    {
      "cell_type": "code",
      "metadata": {
        "id": "VggRr-Ua5F_u",
        "outputId": "ea8babdc-d614-4701-bcd3-7c393da5b6bf",
        "colab": {
          "base_uri": "https://localhost:8080/",
          "height": 51
        }
      },
      "source": [
        "sentence = [\"granny starting to fear spiders in the garden might be real\", \"game of thrones season finale showing this sunday night\"]\n",
        "sequences = tokenizer.texts_to_sequences(sentence)\n",
        "padded = pad_sequences(sequences, maxlen=max_length, padding=padding_type, truncating=trunc_type)\n",
        "print(model.predict(padded))"
      ],
      "execution_count": null,
      "outputs": [
        {
          "output_type": "stream",
          "text": [
            "[[8.7449956e-01]\n",
            " [4.4953222e-06]]\n"
          ],
          "name": "stdout"
        }
      ]
    },
    {
      "cell_type": "code",
      "metadata": {
        "id": "BVdvzaUs5Pxk"
      },
      "source": [
        ""
      ],
      "execution_count": null,
      "outputs": []
    }
  ]
}