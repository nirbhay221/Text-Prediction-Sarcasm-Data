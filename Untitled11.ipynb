{
  "nbformat": 4,
  "nbformat_minor": 0,
  "metadata": {
    "colab": {
      "name": "Untitled11.ipynb",
      "provenance": [],
      "collapsed_sections": []
    },
    "kernelspec": {
      "name": "python3",
      "display_name": "Python 3"
    }
  },
  "cells": [
    {
      "cell_type": "code",
      "metadata": {
        "id": "lZkaSNu21RoG",
        "outputId": "c76a8985-577c-400c-f7c1-6962b6b4e179",
        "colab": {
          "base_uri": "https://localhost:8080/",
          "height": 204
        }
      },
      "source": [
        " !wget --no-check-certificate \\\n",
        "    https://storage.googleapis.com/laurencemoroney-blog.appspot.com/sarcasm.json \\\n",
        "    -O /tmp/sarcasm.json\n"
      ],
      "execution_count": null,
      "outputs": [
        {
          "output_type": "stream",
          "text": [
            "--2020-10-17 09:29:06--  https://storage.googleapis.com/laurencemoroney-blog.appspot.com/sarcasm.json\n",
            "Resolving storage.googleapis.com (storage.googleapis.com)... 74.125.203.128, 64.233.189.128, 108.177.97.128, ...\n",
            "Connecting to storage.googleapis.com (storage.googleapis.com)|74.125.203.128|:443... connected.\n",
            "HTTP request sent, awaiting response... 200 OK\n",
            "Length: 5643545 (5.4M) [application/json]\n",
            "Saving to: ‘/tmp/sarcasm.json’\n",
            "\n",
            "/tmp/sarcasm.json   100%[===================>]   5.38M  --.-KB/s    in 0.05s   \n",
            "\n",
            "2020-10-17 09:29:06 (103 MB/s) - ‘/tmp/sarcasm.json’ saved [5643545/5643545]\n",
            "\n"
          ],
          "name": "stdout"
        }
      ]
    },
    {
      "cell_type": "code",
      "metadata": {
        "id": "G-HlARsk4C0b"
      },
      "source": [
        "import tensorflow as tf \n",
        "from tensorflow.keras.preprocessing.text import Tokenizer\n",
        "from tensorflow.keras.preprocessing.sequence import pad_sequences"
      ],
      "execution_count": null,
      "outputs": []
    },
    {
      "cell_type": "code",
      "metadata": {
        "id": "RapYIEfm4RpE"
      },
      "source": [
        "import json\n",
        "with open('/tmp/sarcasm.json','r') as f:\n",
        "  datastore = json.load(f)\n",
        "sentences = []\n",
        "labels = []\n",
        "for item in datastore:\n",
        "  sentences.append(item['headline']);\n",
        "  labels.append(item['is_sarcastic']);"
      ],
      "execution_count": null,
      "outputs": []
    },
    {
      "cell_type": "code",
      "metadata": {
        "id": "4Wrmr7xG40L-"
      },
      "source": [
        "vocab_size = 10000\n",
        "embedding_dim =16\n",
        "max_length = 100\n",
        "trunc_type = 'post'\n",
        "padding_type = 'post'\n",
        "oov_token = '<OOV>'\n",
        "training_size =20000"
      ],
      "execution_count": null,
      "outputs": []
    },
    {
      "cell_type": "code",
      "metadata": {
        "id": "qgcnZ52I48Lw"
      },
      "source": [
        "training_sentences = sentences[0:training_size]\n",
        "training_labels = labels[0:training_size]\n",
        "testing_sentences = sentences[training_size:]\n",
        "testing_labels = labels[training_size:]"
      ],
      "execution_count": null,
      "outputs": []
    },
    {
      "cell_type": "code",
      "metadata": {
        "id": "vipeP1yaBYi1"
      },
      "source": [
        "tokenizer = Tokenizer(num_words = vocab_size,oov_token = '<OOV>')\n",
        "tokenizer.fit_on_texts(training_sentences)\n",
        "word_index = tokenizer.word_index"
      ],
      "execution_count": null,
      "outputs": []
    },
    {
      "cell_type": "code",
      "metadata": {
        "id": "oshTWzhbeyFz"
      },
      "source": [
        "sequences = tokenizer.texts_to_sequences(training_sentences)\n",
        "padded = pad_sequences(sequences,truncating=trunc_type,padding= padding_type,maxlen = max_length)\n",
        "sequences_t = tokenizer.texts_to_sequences(testing_sentences)\n",
        "padded_t = pad_sequences(sequences_t,truncating=trunc_type,padding= padding_type,maxlen = max_length)"
      ],
      "execution_count": null,
      "outputs": []
    },
    {
      "cell_type": "code",
      "metadata": {
        "id": "zjYtN6xLffzf"
      },
      "source": [
        "import numpy as np\n",
        "padded_f = np.array(padded)\n",
        "\n",
        "padded_ft = np.array(padded_t)\n",
        "labels_f = np.array(training_labels)\n",
        "\n",
        "labels_ft = np.array(testing_labels)"
      ],
      "execution_count": null,
      "outputs": []
    },
    {
      "cell_type": "code",
      "metadata": {
        "id": "5nXi9tSXf7Qa"
      },
      "source": [
        "reverse_word_index  = dict([(value,key) for (key,value) in word_index.items()])"
      ],
      "execution_count": null,
      "outputs": []
    },
    {
      "cell_type": "code",
      "metadata": {
        "id": "KCPwX917iBZD"
      },
      "source": [
        "def decode_sentence(text):\n",
        "  return \" \".join([reverse_word_index.get(i,'?') for i in text])"
      ],
      "execution_count": null,
      "outputs": []
    },
    {
      "cell_type": "code",
      "metadata": {
        "id": "I1yoIb-qgV8S",
        "outputId": "2d69470e-979f-4755-8c6f-60dc0358375c",
        "colab": {
          "base_uri": "https://localhost:8080/",
          "height": 71
        }
      },
      "source": [
        "print(decode_sentence(padded[4]))\n",
        "print(training_sentences[4])\n"
      ],
      "execution_count": null,
      "outputs": [
        {
          "output_type": "stream",
          "text": [
            "j k rowling wishes snape happy birthday in the most magical way ? ? ? ? ? ? ? ? ? ? ? ? ? ? ? ? ? ? ? ? ? ? ? ? ? ? ? ? ? ? ? ? ? ? ? ? ? ? ? ? ? ? ? ? ? ? ? ? ? ? ? ? ? ? ? ? ? ? ? ? ? ? ? ? ? ? ? ? ? ? ? ? ? ? ? ? ? ? ? ? ? ? ? ? ? ? ? ?\n",
            "j.k. rowling wishes snape happy birthday in the most magical way\n"
          ],
          "name": "stdout"
        }
      ]
    },
    {
      "cell_type": "code",
      "metadata": {
        "id": "05h_-FNDhoP3"
      },
      "source": [
        "model = tf.keras.Sequential([\n",
        "    tf.keras.layers.Embedding(vocab_size, embedding_dim, input_length=max_length),\n",
        "    tf.keras.layers.GlobalAveragePooling1D(),\n",
        "    tf.keras.layers.Dense(24, activation='relu'),\n",
        "    tf.keras.layers.Dense(1, activation='sigmoid')\n",
        "])\n",
        "model.compile(loss='binary_crossentropy',optimizer='adam',metrics=['accuracy'])"
      ],
      "execution_count": null,
      "outputs": []
    },
    {
      "cell_type": "code",
      "metadata": {
        "id": "qhxCgWMyh1aR",
        "outputId": "f18de58b-fe53-4df6-8dc8-575af30b24c4",
        "colab": {
          "base_uri": "https://localhost:8080/",
          "height": 289
        }
      },
      "source": [
        "model.summary()"
      ],
      "execution_count": null,
      "outputs": [
        {
          "output_type": "stream",
          "text": [
            "Model: \"sequential_1\"\n",
            "_________________________________________________________________\n",
            "Layer (type)                 Output Shape              Param #   \n",
            "=================================================================\n",
            "embedding_1 (Embedding)      (None, 100, 16)           160000    \n",
            "_________________________________________________________________\n",
            "global_average_pooling1d_1 ( (None, 16)                0         \n",
            "_________________________________________________________________\n",
            "dense_2 (Dense)              (None, 24)                408       \n",
            "_________________________________________________________________\n",
            "dense_3 (Dense)              (None, 1)                 25        \n",
            "=================================================================\n",
            "Total params: 160,433\n",
            "Trainable params: 160,433\n",
            "Non-trainable params: 0\n",
            "_________________________________________________________________\n"
          ],
          "name": "stdout"
        }
      ]
    },
    {
      "cell_type": "code",
      "metadata": {
        "id": "EIvrnlQGlQm8",
        "outputId": "db287d81-16bd-4192-c509-968c1e31cc6b",
        "colab": {
          "base_uri": "https://localhost:8080/",
          "height": 1000
        }
      },
      "source": [
        "num_epochs = 30\n",
        "history = model.fit(padded_f, labels_f, epochs=num_epochs, validation_data=(padded_ft, labels_ft), verbose=2)"
      ],
      "execution_count": null,
      "outputs": [
        {
          "output_type": "stream",
          "text": [
            "Epoch 1/30\n",
            "625/625 - 2s - loss: 0.6760 - accuracy: 0.5704 - val_loss: 0.6221 - val_accuracy: 0.6929\n",
            "Epoch 2/30\n",
            "625/625 - 2s - loss: 0.4687 - accuracy: 0.8164 - val_loss: 0.3994 - val_accuracy: 0.8338\n",
            "Epoch 3/30\n",
            "625/625 - 2s - loss: 0.3296 - accuracy: 0.8683 - val_loss: 0.3602 - val_accuracy: 0.8487\n",
            "Epoch 4/30\n",
            "625/625 - 2s - loss: 0.2766 - accuracy: 0.8905 - val_loss: 0.3457 - val_accuracy: 0.8538\n",
            "Epoch 5/30\n",
            "625/625 - 2s - loss: 0.2391 - accuracy: 0.9078 - val_loss: 0.3431 - val_accuracy: 0.8536\n",
            "Epoch 6/30\n",
            "625/625 - 2s - loss: 0.2122 - accuracy: 0.9182 - val_loss: 0.3583 - val_accuracy: 0.8454\n",
            "Epoch 7/30\n",
            "625/625 - 2s - loss: 0.1901 - accuracy: 0.9283 - val_loss: 0.3587 - val_accuracy: 0.8505\n",
            "Epoch 8/30\n",
            "625/625 - 2s - loss: 0.1709 - accuracy: 0.9370 - val_loss: 0.3648 - val_accuracy: 0.8538\n",
            "Epoch 9/30\n",
            "625/625 - 2s - loss: 0.1545 - accuracy: 0.9438 - val_loss: 0.3728 - val_accuracy: 0.8536\n",
            "Epoch 10/30\n",
            "625/625 - 2s - loss: 0.1412 - accuracy: 0.9492 - val_loss: 0.3880 - val_accuracy: 0.8535\n",
            "Epoch 11/30\n",
            "625/625 - 2s - loss: 0.1291 - accuracy: 0.9541 - val_loss: 0.4102 - val_accuracy: 0.8492\n",
            "Epoch 12/30\n",
            "625/625 - 2s - loss: 0.1195 - accuracy: 0.9591 - val_loss: 0.4231 - val_accuracy: 0.8492\n",
            "Epoch 13/30\n",
            "625/625 - 2s - loss: 0.1094 - accuracy: 0.9631 - val_loss: 0.4471 - val_accuracy: 0.8465\n",
            "Epoch 14/30\n",
            "625/625 - 2s - loss: 0.1015 - accuracy: 0.9651 - val_loss: 0.4688 - val_accuracy: 0.8432\n",
            "Epoch 15/30\n",
            "625/625 - 2s - loss: 0.0937 - accuracy: 0.9682 - val_loss: 0.4910 - val_accuracy: 0.8413\n",
            "Epoch 16/30\n",
            "625/625 - 2s - loss: 0.0867 - accuracy: 0.9716 - val_loss: 0.5120 - val_accuracy: 0.8396\n",
            "Epoch 17/30\n",
            "625/625 - 2s - loss: 0.0793 - accuracy: 0.9748 - val_loss: 0.5576 - val_accuracy: 0.8326\n",
            "Epoch 18/30\n",
            "625/625 - 2s - loss: 0.0753 - accuracy: 0.9750 - val_loss: 0.5574 - val_accuracy: 0.8377\n",
            "Epoch 19/30\n",
            "625/625 - 2s - loss: 0.0691 - accuracy: 0.9786 - val_loss: 0.5837 - val_accuracy: 0.8360\n",
            "Epoch 20/30\n",
            "625/625 - 2s - loss: 0.0632 - accuracy: 0.9803 - val_loss: 0.6115 - val_accuracy: 0.8335\n",
            "Epoch 21/30\n",
            "625/625 - 2s - loss: 0.0598 - accuracy: 0.9827 - val_loss: 0.6432 - val_accuracy: 0.8296\n",
            "Epoch 22/30\n",
            "625/625 - 2s - loss: 0.0546 - accuracy: 0.9839 - val_loss: 0.6688 - val_accuracy: 0.8307\n",
            "Epoch 23/30\n",
            "625/625 - 2s - loss: 0.0495 - accuracy: 0.9851 - val_loss: 0.6997 - val_accuracy: 0.8271\n",
            "Epoch 24/30\n",
            "625/625 - 2s - loss: 0.0482 - accuracy: 0.9854 - val_loss: 0.7349 - val_accuracy: 0.8241\n",
            "Epoch 25/30\n",
            "625/625 - 2s - loss: 0.0437 - accuracy: 0.9866 - val_loss: 0.7641 - val_accuracy: 0.8241\n",
            "Epoch 26/30\n",
            "625/625 - 2s - loss: 0.0402 - accuracy: 0.9888 - val_loss: 0.7919 - val_accuracy: 0.8225\n",
            "Epoch 27/30\n",
            "625/625 - 2s - loss: 0.0379 - accuracy: 0.9883 - val_loss: 0.8320 - val_accuracy: 0.8199\n",
            "Epoch 28/30\n",
            "625/625 - 2s - loss: 0.0361 - accuracy: 0.9900 - val_loss: 0.8545 - val_accuracy: 0.8210\n",
            "Epoch 29/30\n",
            "625/625 - 2s - loss: 0.0336 - accuracy: 0.9905 - val_loss: 0.8825 - val_accuracy: 0.8225\n",
            "Epoch 30/30\n",
            "625/625 - 2s - loss: 0.0291 - accuracy: 0.9914 - val_loss: 0.9284 - val_accuracy: 0.8144\n"
          ],
          "name": "stdout"
        }
      ]
    },
    {
      "cell_type": "code",
      "metadata": {
        "id": "iLxVj0NlosSE",
        "outputId": "7046da83-2597-42bc-e216-dc116625cb61",
        "colab": {
          "base_uri": "https://localhost:8080/",
          "height": 34
        }
      },
      "source": [
        "e = model.layers[0]\n",
        "weights = e.get_weights()[0]\n",
        "print(weights.shape)"
      ],
      "execution_count": null,
      "outputs": [
        {
          "output_type": "stream",
          "text": [
            "(10000, 16)\n"
          ],
          "name": "stdout"
        }
      ]
    },
    {
      "cell_type": "code",
      "metadata": {
        "id": "4jOPvv_HqUOq",
        "outputId": "652803d3-3862-4613-a9ca-ecc4bb2e2a58",
        "colab": {
          "base_uri": "https://localhost:8080/",
          "height": 541
        }
      },
      "source": [
        "import matplotlib.pyplot as plt\n",
        "def plot_graphs(history,string):\n",
        "  plt.plot(history.history[string])\n",
        "  plt.plot(history.history['val_'+string])\n",
        "  plt.xlabel('Epochs')\n",
        "  plt.ylabel(string)\n",
        "  plt.legend([string,'val_'+string])\n",
        "  plt.show()\n",
        "plot_graphs(history,'accuracy')\n",
        "plot_graphs(history,'loss')"
      ],
      "execution_count": null,
      "outputs": [
        {
          "output_type": "display_data",
          "data": {
            "image/png": "[encoded data removed]",
            "text/plain": [
              "<Figure size 432x288 with 1 Axes>"
            ]
          },
          "metadata": {
            "tags": [],
            "needs_background": "light"
          }
        },
        {
          "output_type": "display_data",
          "data": {
            "image/png": "[encoded data removed]",
            "text/plain": [
              "<Figure size 432x288 with 1 Axes>"
            ]
          },
          "metadata": {
            "tags": [],
            "needs_background": "light"
          }
        }
      ]
    },
    {
      "cell_type": "code",
      "metadata": {
        "id": "wa9HB1JtrDeb"
      },
      "source": [
        "import io \n",
        "out_v =io.open('vesecs.tsv','w',encoding='utf-8')\n",
        "out_m =io.open('metasecs.tsv','w',encoding='utf-8')\n",
        "for word_num in range(1,vocab_size):\n",
        "  word = reverse_word_index[word_num]\n",
        "  embeddings = weights[word_num]\n",
        "  out_m.write(word+'\\n')\n",
        "  out_v.write('\\t'.join([str(x) for x  in embeddings])+'\\n')\n",
        "  "
      ],
      "execution_count": null,
      "outputs": []
    },
    {
      "cell_type": "code",
      "metadata": {
        "id": "CopazYJSsk9t"
      },
      "source": [
        "out_v.close()\n",
        "out_m.close()"
      ],
      "execution_count": null,
      "outputs": []
    },
    {
      "cell_type": "code",
      "metadata": {
        "id": "YLfrB5Uis9Zv",
        "outputId": "e7a82f01-60f6-46f8-9799-24cf2ee7646b",
        "colab": {
          "base_uri": "https://localhost:8080/",
          "height": 17
        }
      },
      "source": [
        "try: \n",
        "  from google.colab import files\n",
        "except ImportError:\n",
        "  pass\n",
        "else:\n",
        "    files.download('vesecs.tsv')\n",
        "    files.download('metasecs.tsv')"
      ],
      "execution_count": null,
      "outputs": [
        {
          "output_type": "display_data",
          "data": {
            "application/javascript": [
              "\n",
              "    async function download(id, filename, size) {\n",
              "      if (!google.colab.kernel.accessAllowed) {\n",
              "        return;\n",
              "      }\n",
              "      const div = document.createElement('div');\n",
              "      const label = document.createElement('label');\n",
              "      label.textContent = `Downloading \"${filename}\": `;\n",
              "      div.appendChild(label);\n",
              "      const progress = document.createElement('progress');\n",
              "      progress.max = size;\n",
              "      div.appendChild(progress);\n",
              "      document.body.appendChild(div);\n",
              "\n",
              "      const buffers = [];\n",
              "      let downloaded = 0;\n",
              "\n",
              "      const channel = await google.colab.kernel.comms.open(id);\n",
              "      // Send a message to notify the kernel that we're ready.\n",
              "      channel.send({})\n",
              "\n",
              "      for await (const message of channel.messages) {\n",
              "        // Send a message to notify the kernel that we're ready.\n",
              "        channel.send({})\n",
              "        if (message.buffers) {\n",
              "          for (const buffer of message.buffers) {\n",
              "            buffers.push(buffer);\n",
              "            downloaded += buffer.byteLength;\n",
              "            progress.value = downloaded;\n",
              "          }\n",
              "        }\n",
              "      }\n",
              "      const blob = new Blob(buffers, {type: 'application/binary'});\n",
              "      const a = document.createElement('a');\n",
              "      a.href = window.URL.createObjectURL(blob);\n",
              "      a.download = filename;\n",
              "      div.appendChild(a);\n",
              "      a.click();\n",
              "      div.remove();\n",
              "    }\n",
              "  "
            ],
            "text/plain": [
              "<IPython.core.display.Javascript object>"
            ]
          },
          "metadata": {
            "tags": []
          }
        },
        {
          "output_type": "display_data",
          "data": {
            "application/javascript": [
              "download(\"download_c12a8e30-696c-43b8-a80c-7bb6ae71222b\", \"vesecs.tsv\", 1807020)"
            ],
            "text/plain": [
              "<IPython.core.display.Javascript object>"
            ]
          },
          "metadata": {
            "tags": []
          }
        },
        {
          "output_type": "display_data",
          "data": {
            "application/javascript": [
              "\n",
              "    async function download(id, filename, size) {\n",
              "      if (!google.colab.kernel.accessAllowed) {\n",
              "        return;\n",
              "      }\n",
              "      const div = document.createElement('div');\n",
              "      const label = document.createElement('label');\n",
              "      label.textContent = `Downloading \"${filename}\": `;\n",
              "      div.appendChild(label);\n",
              "      const progress = document.createElement('progress');\n",
              "      progress.max = size;\n",
              "      div.appendChild(progress);\n",
              "      document.body.appendChild(div);\n",
              "\n",
              "      const buffers = [];\n",
              "      let downloaded = 0;\n",
              "\n",
              "      const channel = await google.colab.kernel.comms.open(id);\n",
              "      // Send a message to notify the kernel that we're ready.\n",
              "      channel.send({})\n",
              "\n",
              "      for await (const message of channel.messages) {\n",
              "        // Send a message to notify the kernel that we're ready.\n",
              "        channel.send({})\n",
              "        if (message.buffers) {\n",
              "          for (const buffer of message.buffers) {\n",
              "            buffers.push(buffer);\n",
              "            downloaded += buffer.byteLength;\n",
              "            progress.value = downloaded;\n",
              "          }\n",
              "        }\n",
              "      }\n",
              "      const blob = new Blob(buffers, {type: 'application/binary'});\n",
              "      const a = document.createElement('a');\n",
              "      a.href = window.URL.createObjectURL(blob);\n",
              "      a.download = filename;\n",
              "      div.appendChild(a);\n",
              "      a.click();\n",
              "      div.remove();\n",
              "    }\n",
              "  "
            ],
            "text/plain": [
              "<IPython.core.display.Javascript object>"
            ]
          },
          "metadata": {
            "tags": []
          }
        },
        {
          "output_type": "display_data",
          "data": {
            "application/javascript": [
              "download(\"download_b4146ac8-1f16-43c8-b04d-0ee77d828325\", \"metasecs.tsv\", 75974)"
            ],
            "text/plain": [
              "<IPython.core.display.Javascript object>"
            ]
          },
          "metadata": {
            "tags": []
          }
        }
      ]
    },
    {
      "cell_type": "code",
      "metadata": {
        "id": "fVyYvtEntTIo",
        "outputId": "9020d1b3-7dc4-47da-c997-14777bb6844a",
        "colab": {
          "base_uri": "https://localhost:8080/",
          "height": 51
        }
      },
      "source": [
        "sentence = [\"granny starting to fear spiders in the garden might be real\", \"game of thrones season finale showing this sunday night\"]\n",
        "sequences = tokenizer.texts_to_sequences(sentence)\n",
        "padded = pad_sequences(sequences, maxlen=max_length, padding=padding_type, truncating=trunc_type)\n",
        "print(model.predict(padded))"
      ],
      "execution_count": null,
      "outputs": [
        {
          "output_type": "stream",
          "text": [
            "[[8.7085861e-01]\n",
            " [7.6840064e-05]]\n"
          ],
          "name": "stdout"
        }
      ]
    },
    {
      "cell_type": "code",
      "metadata": {
        "id": "btWGJBK2tdaJ"
      },
      "source": [
        ""
      ],
      "execution_count": null,
      "outputs": []
    }
  ]
}